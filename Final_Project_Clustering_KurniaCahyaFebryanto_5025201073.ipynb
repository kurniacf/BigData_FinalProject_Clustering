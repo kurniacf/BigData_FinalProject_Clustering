{
  "cells": [
    {
      "cell_type": "markdown",
      "metadata": {
        "id": "v9mn1Jqfv9VI"
      },
      "source": [
        "# Final Project Big Data - Clustering\n",
        "\n",
        "- Name: Kurnia Cahya Febryanto\n",
        "- Student ID: 5025201073\n",
        "- Class: Big Data A"
      ]
    },
    {
      "cell_type": "markdown",
      "metadata": {
        "id": "cOAqmN0mzb_g"
      },
      "source": [
        "## Table of Contents\n",
        "1. [Dataset Description](#dataset-description)\n",
        "   - [Source of the Dataset](#source-of-the-dataset)\n",
        "   - [Description of the Dataset](#description-of-the-dataset)\n",
        "2. [Data Acquisition](#data-acquisition)\n",
        "   - [Setting Up Kaggle API](#setting-up-kaggle-api)\n",
        "   - [Downloading Dataset](#downloading-dataset)\n",
        "3. [Setting Up the Environment](#setting-up-the-environment)\n",
        "   - [Installation of Dependencies](#installation-of-dependencies)\n",
        "   - [Setting Up Apache Spark](#setting-up-apache-spark)\n",
        "4. [Data Loading and Exploration](#data-loading-and-exploration)\n",
        "   - [Loading Dataset into Spark DataFrame](#loading-dataset-into-spark-dataframe)\n",
        "   - [Initial Data Exploration](#initial-data-exploration)\n",
        "5. [Data Preprocessing](#data-preprocessing)\n",
        "   - [Handling Missing Values](#handling-missing-values)\n",
        "   - [Feature Scaling/Normalization](#feature-scalingnormalization)\n",
        "6. [Feature Engineering](#feature-engineering)\n",
        "   - [Feature Selection](#feature-selection)\n",
        "   - [Feature Preparation](#feature-preparation)\n",
        "7. [Model Building](#model-building)\n",
        "   - [Choice of Clustering Algorithm](#choice-of-clustering-algorithm)\n",
        "   - [K-Means Clustering Algorithm](k-means-clustering-algorithm)\n",
        "   - [Reason for Choosing the Algorithm](#reason-for-choosing-the-algorithm)\n",
        "8. [Parameter Tuning](#parameter-tuning)\n",
        "   - [Initial Model Training](#initial-model-training)\n",
        "   - [Hyperparameter Tuning](#hyperparameter-tuning)\n",
        "   - [Retraining Model with Optimized Parameters](#retraining-model-with-optimized-parameters)\n",
        "9. [Model Evaluation](#model-evaluation)\n",
        "   - [Elbow Method](#elbow-method)\n",
        "   - [Silhouette Score](#silhouette-score)\n",
        "10. [Visualization](#visualization)\n",
        "    - [Data Visualization during Preprocessing](#data-visualization-during-preprocessing)\n",
        "    - [Data Visualization during Evaluation](#data-visualization-during-evaluation)\n",
        "11. [Conclusion](#conclusion)\n",
        "12. [References](#references)"
      ]
    },
    {
      "cell_type": "markdown",
      "metadata": {
        "id": "gca8jLr-zf-k"
      },
      "source": [
        "## Dataset Description\n"
      ]
    },
    {
      "cell_type": "markdown",
      "metadata": {
        "id": "8HR6OkNnzrGI"
      },
      "source": [
        "### Source of the Dataset\n",
        "\n",
        "The dataset used in this project is hosted on Kaggle, specifically found at this location:\n",
        "[Airplane Crashes Since 1908](https://www.kaggle.com/datasets/saurograndi/airplane-crashes-since-1908)\n",
        "To use this dataset, you'll need to download it from Kaggle and upload it to your working environment."
      ]
    },
    {
      "cell_type": "markdown",
      "metadata": {
        "id": "7aIgDTZbzukO"
      },
      "source": [
        "### Description of the Dataset\n",
        "\n",
        "The dataset, titled \"Airplane Crashes and Fatalities Since 1908\", provides a comprehensive history of airplane\n",
        "crashes throughout the world from 1908 to the present. Originally hosted by Open Data by Socrata,\n",
        "it is no longer available from the original source and is now hosted on Kaggle.\n",
        "\n",
        "The dataset contains various information about each crash, including:\n",
        "\n",
        "- The date of the crash\n",
        "- The type of airplane\n",
        "- The operator of the airplane\n",
        "- The flight's origin and destination\n",
        "- Information about the number of passengers, survivors, and fatalities"
      ]
    },
    {
      "cell_type": "markdown",
      "metadata": {
        "id": "aqZJhWro1Hrd"
      },
      "source": [
        "## Data Acquisition"
      ]
    },
    {
      "cell_type": "markdown",
      "metadata": {
        "id": "ZWdPXnZx1KuS"
      },
      "source": [
        "### Setting Up Kaggle API"
      ]
    },
    {
      "cell_type": "markdown",
      "metadata": {
        "id": "NMcVOUEM1wt9"
      },
      "source": [
        "To utilize Kaggle's datasets directly, we need to setup Kaggle API. You can download your kaggle.json file\n",
        "from your Kaggle account settings page. The kaggle.json file is a token that connects the API to your account.\n",
        "\n",
        "Steps to upload kaggle.json in Google Colab:\n",
        "1. Run the code cell below.\n",
        "2. A `Choose Files` button will appear. Click on it.\n",
        "3. Navigate to the location of your kaggle.json file and select it."
      ]
    },
    {
      "cell_type": "code",
      "execution_count": null,
      "metadata": {
        "id": "Gd0ju2hYmPbf"
      },
      "outputs": [],
      "source": [
        "# Import necessary library\n",
        "from google.colab import files"
      ]
    },
    {
      "cell_type": "code",
      "execution_count": null,
      "metadata": {
        "colab": {
          "base_uri": "https://localhost:8080/",
          "height": 92
        },
        "id": "owxHNXhh17v3",
        "outputId": "69990947-c824-4a05-f69c-ebab75f37978"
      },
      "outputs": [
        {
          "output_type": "display_data",
          "data": {
            "text/plain": [
              "<IPython.core.display.HTML object>"
            ],
            "text/html": [
              "\n",
              "     <input type=\"file\" id=\"files-b370991d-0aba-469d-8ad4-b68a74f469cb\" name=\"files[]\" multiple disabled\n",
              "        style=\"border:none\" />\n",
              "     <output id=\"result-b370991d-0aba-469d-8ad4-b68a74f469cb\">\n",
              "      Upload widget is only available when the cell has been executed in the\n",
              "      current browser session. Please rerun this cell to enable.\n",
              "      </output>\n",
              "      <script>// Copyright 2017 Google LLC\n",
              "//\n",
              "// Licensed under the Apache License, Version 2.0 (the \"License\");\n",
              "// you may not use this file except in compliance with the License.\n",
              "// You may obtain a copy of the License at\n",
              "//\n",
              "//      http://www.apache.org/licenses/LICENSE-2.0\n",
              "//\n",
              "// Unless required by applicable law or agreed to in writing, software\n",
              "// distributed under the License is distributed on an \"AS IS\" BASIS,\n",
              "// WITHOUT WARRANTIES OR CONDITIONS OF ANY KIND, either express or implied.\n",
              "// See the License for the specific language governing permissions and\n",
              "// limitations under the License.\n",
              "\n",
              "/**\n",
              " * @fileoverview Helpers for google.colab Python module.\n",
              " */\n",
              "(function(scope) {\n",
              "function span(text, styleAttributes = {}) {\n",
              "  const element = document.createElement('span');\n",
              "  element.textContent = text;\n",
              "  for (const key of Object.keys(styleAttributes)) {\n",
              "    element.style[key] = styleAttributes[key];\n",
              "  }\n",
              "  return element;\n",
              "}\n",
              "\n",
              "// Max number of bytes which will be uploaded at a time.\n",
              "const MAX_PAYLOAD_SIZE = 100 * 1024;\n",
              "\n",
              "function _uploadFiles(inputId, outputId) {\n",
              "  const steps = uploadFilesStep(inputId, outputId);\n",
              "  const outputElement = document.getElementById(outputId);\n",
              "  // Cache steps on the outputElement to make it available for the next call\n",
              "  // to uploadFilesContinue from Python.\n",
              "  outputElement.steps = steps;\n",
              "\n",
              "  return _uploadFilesContinue(outputId);\n",
              "}\n",
              "\n",
              "// This is roughly an async generator (not supported in the browser yet),\n",
              "// where there are multiple asynchronous steps and the Python side is going\n",
              "// to poll for completion of each step.\n",
              "// This uses a Promise to block the python side on completion of each step,\n",
              "// then passes the result of the previous step as the input to the next step.\n",
              "function _uploadFilesContinue(outputId) {\n",
              "  const outputElement = document.getElementById(outputId);\n",
              "  const steps = outputElement.steps;\n",
              "\n",
              "  const next = steps.next(outputElement.lastPromiseValue);\n",
              "  return Promise.resolve(next.value.promise).then((value) => {\n",
              "    // Cache the last promise value to make it available to the next\n",
              "    // step of the generator.\n",
              "    outputElement.lastPromiseValue = value;\n",
              "    return next.value.response;\n",
              "  });\n",
              "}\n",
              "\n",
              "/**\n",
              " * Generator function which is called between each async step of the upload\n",
              " * process.\n",
              " * @param {string} inputId Element ID of the input file picker element.\n",
              " * @param {string} outputId Element ID of the output display.\n",
              " * @return {!Iterable<!Object>} Iterable of next steps.\n",
              " */\n",
              "function* uploadFilesStep(inputId, outputId) {\n",
              "  const inputElement = document.getElementById(inputId);\n",
              "  inputElement.disabled = false;\n",
              "\n",
              "  const outputElement = document.getElementById(outputId);\n",
              "  outputElement.innerHTML = '';\n",
              "\n",
              "  const pickedPromise = new Promise((resolve) => {\n",
              "    inputElement.addEventListener('change', (e) => {\n",
              "      resolve(e.target.files);\n",
              "    });\n",
              "  });\n",
              "\n",
              "  const cancel = document.createElement('button');\n",
              "  inputElement.parentElement.appendChild(cancel);\n",
              "  cancel.textContent = 'Cancel upload';\n",
              "  const cancelPromise = new Promise((resolve) => {\n",
              "    cancel.onclick = () => {\n",
              "      resolve(null);\n",
              "    };\n",
              "  });\n",
              "\n",
              "  // Wait for the user to pick the files.\n",
              "  const files = yield {\n",
              "    promise: Promise.race([pickedPromise, cancelPromise]),\n",
              "    response: {\n",
              "      action: 'starting',\n",
              "    }\n",
              "  };\n",
              "\n",
              "  cancel.remove();\n",
              "\n",
              "  // Disable the input element since further picks are not allowed.\n",
              "  inputElement.disabled = true;\n",
              "\n",
              "  if (!files) {\n",
              "    return {\n",
              "      response: {\n",
              "        action: 'complete',\n",
              "      }\n",
              "    };\n",
              "  }\n",
              "\n",
              "  for (const file of files) {\n",
              "    const li = document.createElement('li');\n",
              "    li.append(span(file.name, {fontWeight: 'bold'}));\n",
              "    li.append(span(\n",
              "        `(${file.type || 'n/a'}) - ${file.size} bytes, ` +\n",
              "        `last modified: ${\n",
              "            file.lastModifiedDate ? file.lastModifiedDate.toLocaleDateString() :\n",
              "                                    'n/a'} - `));\n",
              "    const percent = span('0% done');\n",
              "    li.appendChild(percent);\n",
              "\n",
              "    outputElement.appendChild(li);\n",
              "\n",
              "    const fileDataPromise = new Promise((resolve) => {\n",
              "      const reader = new FileReader();\n",
              "      reader.onload = (e) => {\n",
              "        resolve(e.target.result);\n",
              "      };\n",
              "      reader.readAsArrayBuffer(file);\n",
              "    });\n",
              "    // Wait for the data to be ready.\n",
              "    let fileData = yield {\n",
              "      promise: fileDataPromise,\n",
              "      response: {\n",
              "        action: 'continue',\n",
              "      }\n",
              "    };\n",
              "\n",
              "    // Use a chunked sending to avoid message size limits. See b/62115660.\n",
              "    let position = 0;\n",
              "    do {\n",
              "      const length = Math.min(fileData.byteLength - position, MAX_PAYLOAD_SIZE);\n",
              "      const chunk = new Uint8Array(fileData, position, length);\n",
              "      position += length;\n",
              "\n",
              "      const base64 = btoa(String.fromCharCode.apply(null, chunk));\n",
              "      yield {\n",
              "        response: {\n",
              "          action: 'append',\n",
              "          file: file.name,\n",
              "          data: base64,\n",
              "        },\n",
              "      };\n",
              "\n",
              "      let percentDone = fileData.byteLength === 0 ?\n",
              "          100 :\n",
              "          Math.round((position / fileData.byteLength) * 100);\n",
              "      percent.textContent = `${percentDone}% done`;\n",
              "\n",
              "    } while (position < fileData.byteLength);\n",
              "  }\n",
              "\n",
              "  // All done.\n",
              "  yield {\n",
              "    response: {\n",
              "      action: 'complete',\n",
              "    }\n",
              "  };\n",
              "}\n",
              "\n",
              "scope.google = scope.google || {};\n",
              "scope.google.colab = scope.google.colab || {};\n",
              "scope.google.colab._files = {\n",
              "  _uploadFiles,\n",
              "  _uploadFilesContinue,\n",
              "};\n",
              "})(self);\n",
              "</script> "
            ]
          },
          "metadata": {}
        },
        {
          "output_type": "stream",
          "name": "stdout",
          "text": [
            "Saving kaggle.json to kaggle.json\n"
          ]
        },
        {
          "output_type": "execute_result",
          "data": {
            "text/plain": [
              "{'kaggle.json': b'{\"username\":\"kurniacahyaf\",\"key\":\"e3f28eef4d71d12989a5e93314b3e05b\"}'}"
            ]
          },
          "metadata": {},
          "execution_count": 2
        }
      ],
      "source": [
        "# Upload kaggle.json\n",
        "files.upload()"
      ]
    },
    {
      "cell_type": "code",
      "execution_count": null,
      "metadata": {
        "id": "rB_FMrox15Zx"
      },
      "outputs": [],
      "source": [
        "# Make directory named kaggle and copy kaggle.json file there.\n",
        "!mkdir -p ~/.kaggle\n",
        "!cp kaggle.json ~/.kaggle/\n",
        "\n",
        "# Change the permissions of the file.\n",
        "!chmod 600 ~/.kaggle/kaggle.json"
      ]
    },
    {
      "cell_type": "markdown",
      "metadata": {
        "id": "EghYgmcd2UEh"
      },
      "source": [
        "### Downloading Dataset"
      ]
    },
    {
      "cell_type": "markdown",
      "metadata": {
        "id": "9CgNXyD72XRL"
      },
      "source": [
        "After setting up the Kaggle API, we can directly download our desired dataset from Kaggle.\n",
        "The dataset of interest for this project is the `Airplane Crashes and Fatalities Since 1908` dataset.\n",
        "We can download it using the specific API command found on the dataset's page on Kaggle."
      ]
    },
    {
      "cell_type": "code",
      "execution_count": null,
      "metadata": {
        "colab": {
          "base_uri": "https://localhost:8080/"
        },
        "id": "NB6azMOG2fuv",
        "outputId": "f1336d32-b2ab-45e6-ff11-7cc86f6efe7b"
      },
      "outputs": [
        {
          "output_type": "stream",
          "name": "stdout",
          "text": [
            "Downloading airplane-crashes-since-1908.zip to /content\n",
            "100% 564k/564k [00:00<00:00, 993kB/s]\n",
            "100% 564k/564k [00:00<00:00, 992kB/s]\n",
            "Archive:  airplane-crashes-since-1908.zip\n",
            "  inflating: Airplane_Crashes_and_Fatalities_Since_1908.csv  \n"
          ]
        }
      ],
      "source": [
        "# Download the dataset\n",
        "!kaggle datasets download -d saurograndi/airplane-crashes-since-1908\n",
        "\n",
        "# Unzip the downloaded file and remove unnecessary zip file\n",
        "!unzip airplane-crashes-since-1908.zip && rm airplane-crashes-since-1908.zip"
      ]
    },
    {
      "cell_type": "markdown",
      "metadata": {
        "id": "R3EtQUuK2tuh"
      },
      "source": [
        "## Setting Up the Environment"
      ]
    },
    {
      "cell_type": "markdown",
      "metadata": {
        "id": "ChARurKo2woK"
      },
      "source": [
        "### Installation of Dependencies"
      ]
    },
    {
      "cell_type": "markdown",
      "metadata": {
        "id": "xwxYZL4F2xpQ"
      },
      "source": [
        "To start off, we will install the required Python libraries. This includes pandas and numpy for data handling,\n",
        "matplotlib and seaborn for data visualization, and pyspark for handling Big Data tasks."
      ]
    },
    {
      "cell_type": "code",
      "execution_count": null,
      "metadata": {
        "colab": {
          "base_uri": "https://localhost:8080/"
        },
        "id": "cVg0h_RL23VO",
        "outputId": "0b6475c9-f9ba-46b4-82be-ebd867640e19"
      },
      "outputs": [
        {
          "output_type": "stream",
          "name": "stdout",
          "text": [
            "Looking in indexes: https://pypi.org/simple, https://us-python.pkg.dev/colab-wheels/public/simple/\n",
            "Requirement already satisfied: pandas in /usr/local/lib/python3.10/dist-packages (1.5.3)\n",
            "Requirement already satisfied: numpy in /usr/local/lib/python3.10/dist-packages (1.22.4)\n",
            "Requirement already satisfied: matplotlib in /usr/local/lib/python3.10/dist-packages (3.7.1)\n",
            "Requirement already satisfied: seaborn in /usr/local/lib/python3.10/dist-packages (0.12.2)\n",
            "Requirement already satisfied: python-dateutil>=2.8.1 in /usr/local/lib/python3.10/dist-packages (from pandas) (2.8.2)\n",
            "Requirement already satisfied: pytz>=2020.1 in /usr/local/lib/python3.10/dist-packages (from pandas) (2022.7.1)\n",
            "Requirement already satisfied: contourpy>=1.0.1 in /usr/local/lib/python3.10/dist-packages (from matplotlib) (1.0.7)\n",
            "Requirement already satisfied: cycler>=0.10 in /usr/local/lib/python3.10/dist-packages (from matplotlib) (0.11.0)\n",
            "Requirement already satisfied: fonttools>=4.22.0 in /usr/local/lib/python3.10/dist-packages (from matplotlib) (4.39.3)\n",
            "Requirement already satisfied: kiwisolver>=1.0.1 in /usr/local/lib/python3.10/dist-packages (from matplotlib) (1.4.4)\n",
            "Requirement already satisfied: packaging>=20.0 in /usr/local/lib/python3.10/dist-packages (from matplotlib) (23.1)\n",
            "Requirement already satisfied: pillow>=6.2.0 in /usr/local/lib/python3.10/dist-packages (from matplotlib) (8.4.0)\n",
            "Requirement already satisfied: pyparsing>=2.3.1 in /usr/local/lib/python3.10/dist-packages (from matplotlib) (3.0.9)\n",
            "Requirement already satisfied: six>=1.5 in /usr/local/lib/python3.10/dist-packages (from python-dateutil>=2.8.1->pandas) (1.16.0)\n"
          ]
        }
      ],
      "source": [
        "!pip install pandas numpy matplotlib seaborn"
      ]
    },
    {
      "cell_type": "markdown",
      "metadata": {
        "id": "lqn5UUA726sM"
      },
      "source": [
        "### Setting Up Apache Spark"
      ]
    },
    {
      "cell_type": "markdown",
      "metadata": {
        "id": "M77DwYVJ28tw"
      },
      "source": [
        "We will be using PySpark, which is the Python library for Apache Spark. Apache Spark is a unified analytics\n",
        "engine for large-scale data processing and it is perfect for our Big Data task.\n",
        "\n",
        "We need to install Java, Spark, and Findspark. Findspark makes it easy to find and start PySpark."
      ]
    },
    {
      "cell_type": "code",
      "execution_count": null,
      "metadata": {
        "colab": {
          "base_uri": "https://localhost:8080/"
        },
        "id": "44n8Xkio3cij",
        "outputId": "2d461176-ec58-472c-d56b-b818f1e0472a"
      },
      "outputs": [
        {
          "output_type": "stream",
          "name": "stdout",
          "text": [
            "Looking in indexes: https://pypi.org/simple, https://us-python.pkg.dev/colab-wheels/public/simple/\n",
            "Collecting pyspark\n",
            "  Downloading pyspark-3.4.0.tar.gz (310.8 MB)\n",
            "\u001b[2K     \u001b[90m━━━━━━━━━━━━━━━━━━━━━━━━━━━━━━━━━━━━━━━\u001b[0m \u001b[32m310.8/310.8 MB\u001b[0m \u001b[31m4.3 MB/s\u001b[0m eta \u001b[36m0:00:00\u001b[0m\n",
            "\u001b[?25h  Preparing metadata (setup.py) ... \u001b[?25l\u001b[?25hdone\n",
            "Requirement already satisfied: py4j==0.10.9.7 in /usr/local/lib/python3.10/dist-packages (from pyspark) (0.10.9.7)\n",
            "Building wheels for collected packages: pyspark\n",
            "  Building wheel for pyspark (setup.py) ... \u001b[?25l\u001b[?25hdone\n",
            "  Created wheel for pyspark: filename=pyspark-3.4.0-py2.py3-none-any.whl size=311317130 sha256=fc23509a36ac8dbcb1efabb741e6f3ca744a87e32f3966431d01117699c68b01\n",
            "  Stored in directory: /root/.cache/pip/wheels/7b/1b/4b/3363a1d04368e7ff0d408e57ff57966fcdf00583774e761327\n",
            "Successfully built pyspark\n",
            "Installing collected packages: pyspark\n",
            "Successfully installed pyspark-3.4.0\n"
          ]
        }
      ],
      "source": [
        "!pip install pyspark"
      ]
    },
    {
      "cell_type": "code",
      "source": [
        "!pip install findspark"
      ],
      "metadata": {
        "colab": {
          "base_uri": "https://localhost:8080/"
        },
        "id": "4_3je2uHkDii",
        "outputId": "8eb94f00-9872-45d6-db82-ace829d12856"
      },
      "execution_count": null,
      "outputs": [
        {
          "output_type": "stream",
          "name": "stdout",
          "text": [
            "Looking in indexes: https://pypi.org/simple, https://us-python.pkg.dev/colab-wheels/public/simple/\n",
            "Collecting findspark\n",
            "  Downloading findspark-2.0.1-py2.py3-none-any.whl (4.4 kB)\n",
            "Installing collected packages: findspark\n",
            "Successfully installed findspark-2.0.1\n"
          ]
        }
      ]
    },
    {
      "cell_type": "code",
      "execution_count": null,
      "metadata": {
        "id": "YRSbOsQY3mFX"
      },
      "outputs": [],
      "source": [
        "from pyspark.sql import SparkSession\n",
        "\n",
        "spark = SparkSession \\\n",
        "    .builder \\\n",
        "    .appName(\"Python Clustering\") \\\n",
        "    .config(\"spark.some.config.option\", \"some-value\") \\\n",
        "    .getOrCreate()\n",
        "\n",
        "# Start a SparkSession\n",
        "import findspark\n",
        "findspark.init()\n",
        "from pyspark.sql import SparkSession\n",
        "spark = SparkSession.builder.master(\"local[*]\").getOrCreate()"
      ]
    },
    {
      "cell_type": "code",
      "execution_count": null,
      "metadata": {
        "colab": {
          "base_uri": "https://localhost:8080/"
        },
        "id": "KYO1fAhR4I7R",
        "outputId": "9651fb83-7eef-468c-9fd8-fe4ce47a3741"
      },
      "outputs": [
        {
          "output_type": "stream",
          "name": "stdout",
          "text": [
            "openjdk 11.0.19 2023-04-18\n",
            "OpenJDK Runtime Environment (build 11.0.19+7-post-Ubuntu-0ubuntu120.04.1)\n",
            "OpenJDK 64-Bit Server VM (build 11.0.19+7-post-Ubuntu-0ubuntu120.04.1, mixed mode, sharing)\n",
            "Python 3.10.12\n"
          ]
        }
      ],
      "source": [
        "!java --version\n",
        "!python --version"
      ]
    },
    {
      "cell_type": "code",
      "execution_count": null,
      "metadata": {
        "id": "V-K4gpJm3Cbk"
      },
      "outputs": [],
      "source": [
        "# Set up required environment variables\n",
        "import os\n",
        "os.environ[\"JAVA_HOME\"] = \"/usr/lib/jvm/java-8-openjdk-amd64\"\n",
        "os.environ[\"SPARK_HOME\"] = \"/content/spark-3.1.2-bin-hadoop3.2\""
      ]
    },
    {
      "cell_type": "markdown",
      "metadata": {
        "id": "MoxzcH264pnp"
      },
      "source": [
        "## Data Loading and Exploration"
      ]
    },
    {
      "cell_type": "markdown",
      "metadata": {
        "id": "xb1fkZRY4uh-"
      },
      "source": [
        "### Loading Dataset into Spark DataFrame\n",
        "\n",
        "We will load the dataset into a PySpark DataFrame, which is a distributed collection of data grouped into named\n",
        "columns. PySpark DataFrames are similar to pandas DataFrames with the difference being that PySpark DataFrames\n",
        "are based on RDD (Resilient Distributed Datasets), hence they are lazily evaluated, and support big data\n",
        "operations natively."
      ]
    },
    {
      "cell_type": "code",
      "execution_count": null,
      "metadata": {
        "id": "3b-z-l5q4xFd"
      },
      "outputs": [],
      "source": [
        "from pyspark.sql import SparkSession\n",
        "\n",
        "spark = SparkSession.builder.appName(\"AirplaneCrashesClustering\").getOrCreate()"
      ]
    },
    {
      "cell_type": "code",
      "execution_count": null,
      "metadata": {
        "id": "XynC0cEG554V"
      },
      "outputs": [],
      "source": [
        "# Path to the dataset\n",
        "file_path = \"/content/Airplane_Crashes_and_Fatalities_Since_1908.csv\"\n",
        "\n",
        "# Load the dataset\n",
        "df = spark.read.csv(file_path, inferSchema=True, header=True)"
      ]
    },
    {
      "cell_type": "markdown",
      "metadata": {
        "id": "3tn4h2k16A2I"
      },
      "source": [
        "### Initial Data Exploration"
      ]
    },
    {
      "cell_type": "markdown",
      "metadata": {
        "id": "zEOjBKnD6Da7"
      },
      "source": [
        "Let's take an initial look at the data. We will check the shape of the DataFrame, look at the first few rows,\n",
        "and get a summary of the statistics of the numerical columns."
      ]
    },
    {
      "cell_type": "code",
      "execution_count": null,
      "metadata": {
        "colab": {
          "base_uri": "https://localhost:8080/"
        },
        "id": "5ubTsfgA6Fgu",
        "outputId": "eb4ca41a-7dd3-4f48-aed3-b8c9f106463e"
      },
      "outputs": [
        {
          "output_type": "stream",
          "name": "stdout",
          "text": [
            "(5268, 13)\n"
          ]
        }
      ],
      "source": [
        "# Checking the shape of the DataFrame\n",
        "print((df.count(), len(df.columns)))"
      ]
    },
    {
      "cell_type": "markdown",
      "metadata": {
        "id": "PQN_XD202-5M"
      },
      "source": []
    },
    {
      "cell_type": "code",
      "execution_count": null,
      "metadata": {
        "colab": {
          "base_uri": "https://localhost:8080/"
        },
        "id": "IGZ461z16IIq",
        "outputId": "3dfa24f3-4bdf-42ff-caa4-1d9a06d3db48"
      },
      "outputs": [
        {
          "output_type": "stream",
          "name": "stdout",
          "text": [
            "+----------+-----+--------------------+--------------------+--------+-------------+--------------------+------------+-----+------+----------+------+--------------------+\n",
            "|      Date| Time|            Location|            Operator|Flight #|        Route|                Type|Registration|cn/In|Aboard|Fatalities|Ground|             Summary|\n",
            "+----------+-----+--------------------+--------------------+--------+-------------+--------------------+------------+-----+------+----------+------+--------------------+\n",
            "|09/17/1908|17:18| Fort Myer, Virginia|Military - U.S. Army|    null|Demonstration|    Wright Flyer III|        null|    1|     2|         1|     0|During a demonstr...|\n",
            "|07/12/1912|06:30|AtlantiCity, New ...|Military - U.S. Navy|    null|  Test flight|           Dirigible|        null| null|     5|         5|     0|First U.S. dirigi...|\n",
            "|08/06/1913| null|Victoria, British...|             Private|       -|         null|    Curtiss seaplane|        null| null|     1|         1|     0|The first fatal a...|\n",
            "|09/09/1913|18:30|  Over the North Sea|Military - German...|    null|         null|Zeppelin L-1 (air...|        null| null|    20|        14|     0|The airship flew ...|\n",
            "|10/17/1913|10:30|Near Johannisthal...|Military - German...|    null|         null|Zeppelin L-2 (air...|        null| null|    30|        30|     0|Hydrogen gas whic...|\n",
            "+----------+-----+--------------------+--------------------+--------+-------------+--------------------+------------+-----+------+----------+------+--------------------+\n",
            "only showing top 5 rows\n",
            "\n"
          ]
        }
      ],
      "source": [
        "# Show first few rows\n",
        "df.show(5)"
      ]
    },
    {
      "cell_type": "code",
      "execution_count": null,
      "metadata": {
        "colab": {
          "base_uri": "https://localhost:8080/"
        },
        "id": "wGLWE-u76LaJ",
        "outputId": "dc528f70-326f-4984-88f1-d349af4c99c4"
      },
      "outputs": [
        {
          "output_type": "stream",
          "name": "stdout",
          "text": [
            "[('Date', 'string'), ('Time', 'string'), ('Location', 'string'), ('Operator', 'string'), ('Flight #', 'string'), ('Route', 'string'), ('Type', 'string'), ('Registration', 'string'), ('cn/In', 'string'), ('Aboard', 'int'), ('Fatalities', 'int'), ('Ground', 'int'), ('Summary', 'string')]\n"
          ]
        }
      ],
      "source": [
        "# Check the data types of each column\n",
        "print(df.dtypes)"
      ]
    },
    {
      "cell_type": "code",
      "execution_count": null,
      "metadata": {
        "colab": {
          "base_uri": "https://localhost:8080/"
        },
        "id": "yCpvoyUR6le-",
        "outputId": "a2138576-76e5-4b46-85e5-a5bc35704430"
      },
      "outputs": [
        {
          "output_type": "stream",
          "name": "stdout",
          "text": [
            "+-------+------------------+-----------------+------------------+\n",
            "|summary|            Aboard|       Fatalities|            Ground|\n",
            "+-------+------------------+-----------------+------------------+\n",
            "|  count|              5246|             5256|              5246|\n",
            "|   mean|27.554517727792604|20.06830289193303|1.6088448341593595|\n",
            "| stddev| 43.07671102777487|33.19995208020396| 53.98782715885631|\n",
            "|    min|                 0|                0|                 0|\n",
            "|    max|               644|              583|              2750|\n",
            "+-------+------------------+-----------------+------------------+\n",
            "\n",
            "+--------------------+-----+\n",
            "|            Operator|count|\n",
            "+--------------------+-----+\n",
            "|              Pakair|    1|\n",
            "|Military - Royal ...|    2|\n",
            "|Alva Aircraft Ser...|    1|\n",
            "|Bruns Air Service...|    1|\n",
            "|   Universal Airways|    1|\n",
            "|       Talia Airways|    1|\n",
            "|Air Taxi - Temesc...|    1|\n",
            "|  HiTech Helicopters|    1|\n",
            "|Air Taxi - El Aer...|    1|\n",
            "|Russ Air Transpor...|    1|\n",
            "|McKinley Air Serv...|    1|\n",
            "|  Charter - Air Cush|    1|\n",
            "|     Aerotuy airline|    1|\n",
            "|          Icelandair|    3|\n",
            "|Turkish Airlines ...|   14|\n",
            "|Military - Vietna...|    5|\n",
            "|Crest Airlines - ...|    1|\n",
            "|Revilla Flying Se...|    1|\n",
            "|Military - Venezu...|    2|\n",
            "|F.R. de la Direcc...|    1|\n",
            "+--------------------+-----+\n",
            "only showing top 20 rows\n",
            "\n"
          ]
        }
      ],
      "source": [
        "# Summary statistics for all numerical columns\n",
        "df.select(\"Aboard\", \"Fatalities\", \"Ground\").describe().show()\n",
        "\n",
        "# Count the unique values in 'Operator' column\n",
        "df.groupby(\"Operator\").count().show()"
      ]
    },
    {
      "cell_type": "markdown",
      "metadata": {
        "id": "8skbEL4r8QAA"
      },
      "source": [
        "## Data Preprocessing"
      ]
    },
    {
      "cell_type": "markdown",
      "metadata": {
        "id": "4CQ9NvSR8ROo"
      },
      "source": [
        "### Handling Missing Values"
      ]
    },
    {
      "cell_type": "markdown",
      "metadata": {
        "id": "a8t9-h1R8VBq"
      },
      "source": [
        "Real-world data is often incomplete, inconsistent, and/or lacking in certain behaviors or trends, and is\n",
        "likely to contain many errors. Missing data in the training data set can reduce the power / fit of a model or\n",
        "can lead to a biased model because we have not accurately estimated the relationships among all variables.\n",
        "Let's check for missing data and handle them."
      ]
    },
    {
      "cell_type": "code",
      "execution_count": null,
      "metadata": {
        "id": "9XoLvoc68nmv"
      },
      "outputs": [],
      "source": [
        "from pyspark.sql.functions import col, sum"
      ]
    },
    {
      "cell_type": "code",
      "execution_count": null,
      "metadata": {
        "colab": {
          "base_uri": "https://localhost:8080/"
        },
        "id": "P56aeP308Vgk",
        "outputId": "4fd6b6bd-a0a9-4338-9232-ea3fea2db406"
      },
      "outputs": [
        {
          "output_type": "stream",
          "name": "stdout",
          "text": [
            "+----+----+--------+--------+--------+-----+----+------------+-----+------+----------+------+-------+\n",
            "|Date|Time|Location|Operator|Flight #|Route|Type|Registration|cn/In|Aboard|Fatalities|Ground|Summary|\n",
            "+----+----+--------+--------+--------+-----+----+------------+-----+------+----------+------+-------+\n",
            "|   0|2219|      20|      18|    4199| 1706|  27|         335| 1228|    22|        12|    22|    390|\n",
            "+----+----+--------+--------+--------+-----+----+------------+-----+------+----------+------+-------+\n",
            "\n"
          ]
        }
      ],
      "source": [
        "# Check for missing data\n",
        "df.select(*(sum(col(c).isNull().cast(\"int\")).alias(c) for c in df.columns)).show()\n",
        "\n",
        "# As an example, if we want to drop the rows containing any null or NaN values\n",
        "# df = df.na.drop()\n",
        "\n",
        "# If we want to fill the missing values with specific values\n",
        "# df = df.na.fill('Unknown')"
      ]
    },
    {
      "cell_type": "code",
      "execution_count": null,
      "metadata": {
        "colab": {
          "base_uri": "https://localhost:8080/"
        },
        "id": "w8QYUu48-JUH",
        "outputId": "c7eefa10-024d-4fcf-aa4e-99fe3d118419"
      },
      "outputs": [
        {
          "output_type": "stream",
          "name": "stdout",
          "text": [
            "+----------+-----+--------------------+--------------------+--------+-------------+--------------------+------------+-----+------+----------+------+--------------------+-------------+-------------------+\n",
            "|      Date| Time|            Location|            Operator|Flight #|        Route|                Type|Registration|cn/In|Aboard|Fatalities|Ground|             Summary|locationIndex|        locationVec|\n",
            "+----------+-----+--------------------+--------------------+--------+-------------+--------------------+------------+-----+------+----------+------+--------------------+-------------+-------------------+\n",
            "|09/17/1908|17:18| Fort Myer, Virginia|Military - U.S. Army|    null|Demonstration|    Wright Flyer III|        null|    1|     2|         1|     0|During a demonstr...|       1203.0|(4302,[1203],[1.0])|\n",
            "|07/12/1912|06:30|AtlantiCity, New ...|Military - U.S. Navy|    null|  Test flight|           Dirigible|        null| null|     5|         5|     0|First U.S. dirigi...|        103.0| (4302,[103],[1.0])|\n",
            "|08/06/1913| null|Victoria, British...|             Private|       -|         null|    Curtiss seaplane|        null| null|     1|         1|     0|The first fatal a...|       4188.0|(4302,[4188],[1.0])|\n",
            "|09/09/1913|18:30|  Over the North Sea|Military - German...|    null|         null|Zeppelin L-1 (air...|        null| null|    20|        14|     0|The airship flew ...|       3483.0|(4302,[3483],[1.0])|\n",
            "|10/17/1913|10:30|Near Johannisthal...|Military - German...|    null|         null|Zeppelin L-2 (air...|        null| null|    30|        30|     0|Hydrogen gas whic...|       2500.0|(4302,[2500],[1.0])|\n",
            "+----------+-----+--------------------+--------------------+--------+-------------+--------------------+------------+-----+------+----------+------+--------------------+-------------+-------------------+\n",
            "only showing top 5 rows\n",
            "\n"
          ]
        }
      ],
      "source": [
        "df.show(5)"
      ]
    },
    {
      "cell_type": "markdown",
      "metadata": {
        "id": "W6SRqg6588Fg"
      },
      "source": [
        "### Feature Scaling/Normalization"
      ]
    },
    {
      "cell_type": "markdown",
      "metadata": {
        "id": "22SHUvqb8-hR"
      },
      "source": [
        "Feature scaling is a method used to normalize the range of independent variables or features of data.\n",
        "In data processing, it is also known as data normalization and is generally performed during the data\n",
        "preprocessing step. Since the range of values of raw data varies widely, in some machine learning algorithms,\n",
        "objective functions will not work properly without normalization.\n",
        "Here, we can apply feature scaling/normalization if necessary."
      ]
    },
    {
      "cell_type": "code",
      "execution_count": null,
      "metadata": {
        "id": "5hdNuV2p9fA-"
      },
      "outputs": [],
      "source": [
        "# Import necessary libraries\n",
        "from pyspark.ml.feature import MinMaxScaler\n",
        "from pyspark.ml.feature import VectorAssembler\n",
        "from pyspark.sql import functions as F\n",
        "from pyspark.ml.feature import StandardScaler"
      ]
    },
    {
      "cell_type": "code",
      "source": [
        "# Fill null values\n",
        "df_kmeans_ = df_kmeans_.na.fill(0)"
      ],
      "metadata": {
        "id": "31Rtoqrxlf-k"
      },
      "execution_count": null,
      "outputs": []
    },
    {
      "cell_type": "code",
      "execution_count": null,
      "metadata": {
        "id": "Q7gLsgGl9f88"
      },
      "outputs": [],
      "source": [
        "df_kmeans = df.select(\"Aboard\", \"Fatalities\", \"Ground\")"
      ]
    },
    {
      "cell_type": "code",
      "execution_count": null,
      "metadata": {
        "id": "OINn35Ob-lgF"
      },
      "outputs": [],
      "source": [
        "# Filter out infinite values\n",
        "for column in [\"Aboard\", \"Fatalities\", \"Ground\"]:\n",
        "    df_kmeans_ = df_kmeans_.filter((F.col(column) != float('Inf')) & (F.col(column) != float('-Inf')))\n",
        "\n",
        "# Handle outliers\n",
        "for column in [\"Aboard\", \"Fatalities\", \"Ground\"]:\n",
        "    quantiles = df_kmeans_.approxQuantile(column, [0.25, 0.75], 0.05)\n",
        "    IQR = quantiles[1] - quantiles[0]\n",
        "    bounds = [quantiles[0] - 1.5 * IQR, quantiles[1] + 1.5 * IQR]\n",
        "    df_kmeans_ = df_kmeans_.filter((F.col(column) >= bounds[0]) & (F.col(column) <= bounds[1]))"
      ]
    },
    {
      "cell_type": "code",
      "execution_count": null,
      "metadata": {
        "colab": {
          "base_uri": "https://localhost:8080/"
        },
        "id": "KW2xoJSw-tgl",
        "outputId": "824b38f3-80d0-4c2f-8e8a-f0c370fc9023"
      },
      "outputs": [
        {
          "output_type": "stream",
          "name": "stdout",
          "text": [
            "+------+----------+------+---------------+--------------------+\n",
            "|Aboard|Fatalities|Ground|       features|     scaled_features|\n",
            "+------+----------+------+---------------+--------------------+\n",
            "|     2|         1|     0|  [2.0,1.0,0.0]|[-1.0592662164261...|\n",
            "|     5|         5|     0|  [5.0,5.0,0.0]|[-0.7038581712473...|\n",
            "|     1|         1|     0|  [1.0,1.0,0.0]|[-1.1777355648191...|\n",
            "|    20|        14|     0|[20.0,14.0,0.0]|[1.07318205464698...|\n",
            "|    19|        19|     0|[19.0,19.0,0.0]|[0.95471270625402...|\n",
            "|    20|        20|     0|[20.0,20.0,0.0]|[1.07318205464698...|\n",
            "|    22|        22|     0|[22.0,22.0,0.0]|[1.31012075143288...|\n",
            "|    19|        19|     0|[19.0,19.0,0.0]|[0.95471270625402...|\n",
            "|    28|        27|     0|[28.0,27.0,0.0]|[2.02093684179060...|\n",
            "|    20|        20|     0|[20.0,20.0,0.0]|[1.07318205464698...|\n",
            "|    20|        20|     0|[20.0,20.0,0.0]|[1.07318205464698...|\n",
            "|    23|        23|     0|[23.0,23.0,0.0]|[1.42859009982584...|\n",
            "|    21|        21|     0|[21.0,21.0,0.0]|[1.19165140303993...|\n",
            "|    24|        24|     0|[24.0,24.0,0.0]|[1.54705944821879...|\n",
            "|    18|        18|     0|[18.0,18.0,0.0]|[0.83624335786107...|\n",
            "|    18|        18|     0|[18.0,18.0,0.0]|[0.83624335786107...|\n",
            "|    23|        23|     0|[23.0,23.0,0.0]|[1.42859009982584...|\n",
            "|    22|        22|     0|[22.0,22.0,0.0]|[1.31012075143288...|\n",
            "|    19|        19|     0|[19.0,19.0,0.0]|[0.95471270625402...|\n",
            "|     1|         1|     0|  [1.0,1.0,0.0]|[-1.1777355648191...|\n",
            "+------+----------+------+---------------+--------------------+\n",
            "only showing top 20 rows\n",
            "\n"
          ]
        }
      ],
      "source": [
        "# Perform VectorAssembler\n",
        "df_kmeans_ = df_kmeans_.drop(\"features\")\n",
        "vecAssembler = VectorAssembler(inputCols=[\"Aboard\", \"Fatalities\", \"Ground\"], outputCol=\"features\")\n",
        "df_kmeans_ = vecAssembler.transform(df_kmeans_)\n",
        "\n",
        "# Scale features using StandardScaler\n",
        "scaler = StandardScaler(inputCol=\"features\", outputCol=\"scaled_features\", withStd=True, withMean=True)\n",
        "scalerModel = scaler.fit(df_kmeans_)\n",
        "df_kmeans_scaled = scalerModel.transform(df_kmeans_)\n",
        "df_kmeans_scaled.show()"
      ]
    },
    {
      "cell_type": "markdown",
      "source": [
        "## Feature Engineering"
      ],
      "metadata": {
        "id": "L0JAzLYklzV5"
      }
    },
    {
      "cell_type": "markdown",
      "source": [
        "### Feature Selection"
      ],
      "metadata": {
        "id": "_UfdkxsCl0KT"
      }
    },
    {
      "cell_type": "markdown",
      "source": [
        "Feature selection is the process of reducing the number of input variables when developing a predictive model.\n",
        "It is desirable to reduce the number of input variables to both reduce the computational cost of modeling and,\n",
        "in some cases, to improve the performance of the model. We can do this in multiple ways."
      ],
      "metadata": {
        "id": "8WVJLBIHl1th"
      }
    },
    {
      "cell_type": "code",
      "source": [
        "# Import necessary libraries\n",
        "from pyspark.ml.stat import Correlation\n",
        "from pyspark.sql.functions import when, isnan"
      ],
      "metadata": {
        "id": "KxxAT-adluPX"
      },
      "execution_count": null,
      "outputs": []
    },
    {
      "cell_type": "code",
      "source": [
        "df_vfeatures = df_vfeatures.na.fill(0)"
      ],
      "metadata": {
        "id": "1r-6Pz3_mcTj"
      },
      "execution_count": null,
      "outputs": []
    },
    {
      "cell_type": "code",
      "source": [
        "df_vfeatures.printSchema()"
      ],
      "metadata": {
        "colab": {
          "base_uri": "https://localhost:8080/"
        },
        "id": "8LeOFLeRmeNi",
        "outputId": "0418d88f-d0ec-405a-8fab-e189af14b30d"
      },
      "execution_count": null,
      "outputs": [
        {
          "output_type": "stream",
          "name": "stdout",
          "text": [
            "root\n",
            " |-- Date: string (nullable = true)\n",
            " |-- Time: string (nullable = true)\n",
            " |-- Location: string (nullable = true)\n",
            " |-- Operator: string (nullable = true)\n",
            " |-- Flight #: string (nullable = true)\n",
            " |-- Route: string (nullable = true)\n",
            " |-- Type: string (nullable = true)\n",
            " |-- Registration: string (nullable = true)\n",
            " |-- cn/In: string (nullable = true)\n",
            " |-- Aboard: integer (nullable = true)\n",
            " |-- Fatalities: integer (nullable = true)\n",
            " |-- Ground: integer (nullable = true)\n",
            " |-- Summary: string (nullable = true)\n",
            " |-- features: vector (nullable = true)\n",
            "\n"
          ]
        }
      ]
    },
    {
      "cell_type": "code",
      "source": [
        "df_vfeatures = df_vfeatures.drop('features')\n",
        "assembler = VectorAssembler(inputCols=[\"Aboard\", \"Fatalities\", \"Ground\"], outputCol='features')\n",
        "df_vfeatures = assembler.transform(df_vfeatures)\n",
        "\n",
        "# Get correlation matrix\n",
        "matrix = Correlation.corr(df_vfeatures, 'features')\n",
        "matrix.collect()[0][\"pearson({})\".format('features')].values"
      ],
      "metadata": {
        "colab": {
          "base_uri": "https://localhost:8080/"
        },
        "id": "gmSz_wT1mCFI",
        "outputId": "8c3c646f-124a-465c-af8c-2c2fab061052"
      },
      "execution_count": null,
      "outputs": [
        {
          "output_type": "execute_result",
          "data": {
            "text/plain": [
              "array([1.        , 0.75692423, 0.02331102, 0.75692423, 1.        ,\n",
              "       0.03521038, 0.02331102, 0.03521038, 1.        ])"
            ]
          },
          "metadata": {},
          "execution_count": 47
        }
      ]
    },
    {
      "cell_type": "markdown",
      "source": [
        "### Feature Preparation"
      ],
      "metadata": {
        "id": "cnuG7c6VnXQJ"
      }
    },
    {
      "cell_type": "markdown",
      "source": [
        "Feature preparation is the process of constructing appropriate inputs to predictive models. This can involve\n",
        "numerous techniques like encoding categorical variables, feature scaling, handling missing values etc.\n",
        "In this section, you can apply any transformations you haven't done before in the preprocessing stage."
      ],
      "metadata": {
        "id": "qfPT5Zt8nZCp"
      }
    },
    {
      "cell_type": "code",
      "source": [
        "# As an example, let's perform One-Hot Encoding on a categorical feature\n",
        "from pyspark.ml.feature import StringIndexer, OneHotEncoder"
      ],
      "metadata": {
        "id": "UStEfhD7nh8H"
      },
      "execution_count": null,
      "outputs": []
    },
    {
      "cell_type": "code",
      "source": [
        "# 'Location' is a categorical column in your data\n",
        "# StringIndexer encodes a string column of labels to a column of label indices\n",
        "indexer = StringIndexer(inputCol='Location', outputCol='locationIndex')\n",
        "df = indexer.fit(df).transform(df)"
      ],
      "metadata": {
        "id": "deDKTDU1nkDK"
      },
      "execution_count": null,
      "outputs": []
    },
    {
      "cell_type": "code",
      "source": [
        "# OneHotEncoder maps a column of category indices to a column of binary vectors, with at most a single one-value per row that indicates the input category index.\n",
        "encoder = OneHotEncoder(inputCol='locationIndex', outputCol='locationVec')\n",
        "df = encoder.fit(df).transform(df)"
      ],
      "metadata": {
        "id": "-8ypKSxInm10"
      },
      "execution_count": null,
      "outputs": []
    },
    {
      "cell_type": "code",
      "source": [
        "df.show(5)"
      ],
      "metadata": {
        "colab": {
          "base_uri": "https://localhost:8080/"
        },
        "id": "Ve7WMtvYnoE7",
        "outputId": "fa07f5d1-2480-44ea-94f6-aa44cc60271f"
      },
      "execution_count": null,
      "outputs": [
        {
          "output_type": "stream",
          "name": "stdout",
          "text": [
            "+----------+-----+--------------------+--------------------+--------+-------------+--------------------+------------+-----+------+----------+------+--------------------+-------------+-------------------+\n",
            "|      Date| Time|            Location|            Operator|Flight #|        Route|                Type|Registration|cn/In|Aboard|Fatalities|Ground|             Summary|locationIndex|        locationVec|\n",
            "+----------+-----+--------------------+--------------------+--------+-------------+--------------------+------------+-----+------+----------+------+--------------------+-------------+-------------------+\n",
            "|09/17/1908|17:18| Fort Myer, Virginia|Military - U.S. Army|    null|Demonstration|    Wright Flyer III|        null|    1|     2|         1|     0|During a demonstr...|       1203.0|(4302,[1203],[1.0])|\n",
            "|07/12/1912|06:30|AtlantiCity, New ...|Military - U.S. Navy|    null|  Test flight|           Dirigible|        null| null|     5|         5|     0|First U.S. dirigi...|        103.0| (4302,[103],[1.0])|\n",
            "|08/06/1913| null|Victoria, British...|             Private|       -|         null|    Curtiss seaplane|        null| null|     1|         1|     0|The first fatal a...|       4188.0|(4302,[4188],[1.0])|\n",
            "|09/09/1913|18:30|  Over the North Sea|Military - German...|    null|         null|Zeppelin L-1 (air...|        null| null|    20|        14|     0|The airship flew ...|       3483.0|(4302,[3483],[1.0])|\n",
            "|10/17/1913|10:30|Near Johannisthal...|Military - German...|    null|         null|Zeppelin L-2 (air...|        null| null|    30|        30|     0|Hydrogen gas whic...|       2500.0|(4302,[2500],[1.0])|\n",
            "+----------+-----+--------------------+--------------------+--------+-------------+--------------------+------------+-----+------+----------+------+--------------------+-------------+-------------------+\n",
            "only showing top 5 rows\n",
            "\n"
          ]
        }
      ]
    },
    {
      "cell_type": "markdown",
      "source": [
        "## Model Building"
      ],
      "metadata": {
        "id": "wbpaChfTntbw"
      }
    },
    {
      "cell_type": "markdown",
      "source": [
        "### Choice of Clustering Algorithm"
      ],
      "metadata": {
        "id": "SbGDiRMdnvEF"
      }
    },
    {
      "cell_type": "markdown",
      "source": [
        "In machine learning, clustering algorithms are a part of unsupervised learning methods, meaning they\n",
        "are used to find a structure or pattern in a collection of uncategorized data. Clustering algorithms\n",
        "group a set of data points into subsets or `clusters` such that the data points in the same clusters\n",
        "are more similar to other data points in the same cluster than those in other clusters."
      ],
      "metadata": {
        "id": "h3tF-coNnwmJ"
      }
    },
    {
      "cell_type": "markdown",
      "source": [
        "##### K-Means Clustering Algorithm"
      ],
      "metadata": {
        "id": "7_pQ4sD_n13u"
      }
    },
    {
      "cell_type": "code",
      "source": [
        "# Import KMeans\n",
        "from pyspark.ml.clustering import KMeans"
      ],
      "metadata": {
        "id": "ik_FESoBn427"
      },
      "execution_count": null,
      "outputs": []
    },
    {
      "cell_type": "code",
      "source": [
        "# Initialize KMeans\n",
        "kmeans = KMeans(k=3, seed=1)"
      ],
      "metadata": {
        "id": "5VNwaEAloPWZ"
      },
      "execution_count": null,
      "outputs": []
    },
    {
      "cell_type": "markdown",
      "source": [
        "### Reason for Choosing the Algorithm"
      ],
      "metadata": {
        "id": "2XBXkgT7oT4v"
      }
    },
    {
      "cell_type": "markdown",
      "source": [
        "The reason using K-Means is that it's one of the simplest and most popular clustering algorithms.\n",
        "It works well with large datasets, and it scales well with the number of dimensions. However, it does\n",
        "require you to specify the number of clusters, `k`  , in advance. It is also sensitive to the initial\n",
        "choice of centroids, which is why running it multiple times and averaging the results is often a good idea."
      ],
      "metadata": {
        "id": "SVuKy_2OoWf4"
      }
    },
    {
      "cell_type": "markdown",
      "source": [
        "### Train a KMeans model"
      ],
      "metadata": {
        "id": "a_1XYeSjohDk"
      }
    },
    {
      "cell_type": "markdown",
      "source": [
        "Here we are training the model. It is very straightforward with Spark ML. We are fitting the model to the data."
      ],
      "metadata": {
        "id": "JSI2OTC9ojhB"
      }
    },
    {
      "cell_type": "code",
      "source": [
        "model = kmeans.fit(df_vfeatures.select('features'))"
      ],
      "metadata": {
        "id": "EwbraqHGocOL"
      },
      "execution_count": null,
      "outputs": []
    },
    {
      "cell_type": "markdown",
      "source": [
        "## Parameter Tuning"
      ],
      "metadata": {
        "id": "tFu5v0cHooeY"
      }
    },
    {
      "cell_type": "markdown",
      "source": [
        "### Hyperparameter Tuning"
      ],
      "metadata": {
        "id": "G5Shqv9WoqF-"
      }
    },
    {
      "cell_type": "markdown",
      "source": [
        "Hyperparameters are parameters that are not learned from the data, they are set by the data scientist\n",
        "before the training process starts. These can have a big impact on the performance of the model, so it's\n",
        "important to choose them wisely."
      ],
      "metadata": {
        "id": "-OiRqgGzotzQ"
      }
    },
    {
      "cell_type": "markdown",
      "source": [
        "#### Elbow method"
      ],
      "metadata": {
        "id": "jjqxvuwKoulO"
      }
    },
    {
      "cell_type": "markdown",
      "source": [
        "In the case of the KMeans algorithm, the main hyperparameter is 'k', the number of clusters. One way to\n",
        "choose the optimal 'k' is to use the 'Elbow method', where you plot the cost function produced by the\n",
        "algorithm (in this case, the within set sum of squared errors), for a range of 'k' values. The 'elbow'\n",
        "point, where the cost function begins to decrease more slowly, is usually a good choice."
      ],
      "metadata": {
        "id": "cmdgmEAyowtm"
      }
    },
    {
      "cell_type": "code",
      "source": [
        "from pyspark.sql.functions import udf\n",
        "from pyspark.sql.types import FloatType\n",
        "from pyspark.ml.linalg import Vectors\n",
        "from pyspark.ml.evaluation import ClusteringEvaluator\n",
        "from pyspark.ml.clustering import KMeans"
      ],
      "metadata": {
        "id": "u50q4Htfo9ph"
      },
      "execution_count": null,
      "outputs": []
    },
    {
      "cell_type": "code",
      "source": [
        "# Create an array to hold the WSSE for each k\n",
        "wsseList = []"
      ],
      "metadata": {
        "id": "orSPCDCRpPXU"
      },
      "execution_count": null,
      "outputs": []
    },
    {
      "cell_type": "code",
      "source": [
        "# Calculate WSSE for k from 2 to 10\n",
        "for k in range(2, 11):\n",
        "    kmeans = KMeans().setK(k).setSeed(1)\n",
        "    model = kmeans.fit(df_vfeatures.select('features'))\n",
        "    transformed = model.transform(df_vfeatures)\n",
        "    centers = model.clusterCenters()\n",
        "\n",
        "    def compute_distance(prediction, features):\n",
        "        center = centers[prediction]\n",
        "        point = features\n",
        "        return float(Vectors.squared_distance(center, point))\n",
        "\n",
        "    compute_distance_udf = udf(compute_distance, FloatType())\n",
        "    wsse = transformed.withColumn('squared_distance', compute_distance_udf(col('prediction'), col('features'))).select(sum('squared_distance')).first()[0]\n",
        "    wsseList.append(wsse)\n",
        "\n",
        "    print(\"With K =\", k, \"the WSSE is\", wsse)"
      ],
      "metadata": {
        "colab": {
          "base_uri": "https://localhost:8080/"
        },
        "id": "1ujzDAg1pfAh",
        "outputId": "aa8c5f01-e099-4f80-c14f-a03e91d37896"
      },
      "execution_count": null,
      "outputs": [
        {
          "output_type": "stream",
          "name": "stdout",
          "text": [
            "With K = 2 the WSSE is 22042657.436201915\n",
            "With K = 3 the WSSE is 6988492.046695918\n",
            "With K = 4 the WSSE is 4765214.582461476\n",
            "With K = 5 the WSSE is 3724855.912092328\n",
            "With K = 6 the WSSE is 2872433.94042778\n",
            "With K = 7 the WSSE is 2260445.1647084057\n",
            "With K = 8 the WSSE is 2156444.482213475\n",
            "With K = 9 the WSSE is 1664667.2260206342\n",
            "With K = 10 the WSSE is 1568755.383662045\n"
          ]
        }
      ]
    },
    {
      "cell_type": "code",
      "source": [
        "# Plot the WSSE values\n",
        "import matplotlib.pyplot as plt\n",
        "\n",
        "plt.plot(range(2, 11), wsseList, 'bo-')\n",
        "plt.xlabel('k')\n",
        "plt.ylabel('WSSE')\n",
        "plt.title('The Elbow Method showing the optimal k')\n",
        "plt.show()"
      ],
      "metadata": {
        "colab": {
          "base_uri": "https://localhost:8080/",
          "height": 472
        },
        "id": "ooeNPGv_o_uQ",
        "outputId": "cb51b7a8-eb7c-40d0-c93e-7acb3ad7dc9e"
      },
      "execution_count": null,
      "outputs": [
        {
          "output_type": "display_data",
          "data": {
            "text/plain": [
              "<Figure size 640x480 with 1 Axes>"
            ],
            "image/png": "[encoded data removed]"
          },
          "metadata": {}
        }
      ]
    },
    {
      "cell_type": "markdown",
      "source": [
        "### Silhoutte Score"
      ],
      "metadata": {
        "id": "6WEWfH1VqGPw"
      }
    },
    {
      "cell_type": "code",
      "source": [
        "# Create an array to hold the silhouette scores\n",
        "silhouetteList = []"
      ],
      "metadata": {
        "id": "Jh6jb046qI4A"
      },
      "execution_count": null,
      "outputs": []
    },
    {
      "cell_type": "code",
      "source": [
        "# Calculate silhouette scores for k from 2 to 10\n",
        "for k in range(2, 11):\n",
        "    kmeans = KMeans().setK(k).setSeed(1)\n",
        "    model = kmeans.fit(df_vfeatures.select('features'))\n",
        "    predictions = model.transform(df_vfeatures)\n",
        "    evaluator = ClusteringEvaluator()\n",
        "    silhouette = evaluator.evaluate(predictions)\n",
        "    silhouetteList.append(silhouette)\n",
        "    print(\"With K =\", k, \"the silhouette score is\", silhouette)"
      ],
      "metadata": {
        "colab": {
          "base_uri": "https://localhost:8080/"
        },
        "id": "7ImnBd03qF_v",
        "outputId": "37dec151-3493-4f04-921f-13ab1ca8b033"
      },
      "execution_count": null,
      "outputs": [
        {
          "output_type": "stream",
          "name": "stdout",
          "text": [
            "With K = 2 the silhouette score is 0.8530497080719324\n",
            "With K = 3 the silhouette score is 0.891511132764563\n",
            "With K = 4 the silhouette score is 0.8287307930955468\n",
            "With K = 5 the silhouette score is 0.7293099594622616\n",
            "With K = 6 the silhouette score is 0.7369878699822865\n",
            "With K = 7 the silhouette score is 0.6972268869128376\n",
            "With K = 8 the silhouette score is 0.7029329817008807\n",
            "With K = 9 the silhouette score is 0.7382522029629914\n",
            "With K = 10 the silhouette score is 0.7525453001896183\n"
          ]
        }
      ]
    },
    {
      "cell_type": "code",
      "source": [
        "# Plot the silhouette scores\n",
        "plt.plot(range(2, 11), silhouetteList, 'bo-')\n",
        "plt.xlabel('k')\n",
        "plt.ylabel('Silhouette Score')\n",
        "plt.title('Silhouette Method showing the optimal k')\n",
        "plt.show()"
      ],
      "metadata": {
        "colab": {
          "base_uri": "https://localhost:8080/",
          "height": 472
        },
        "id": "l_YjXKb1qcGI",
        "outputId": "dccbe865-b4ef-4ff2-b082-2c38d8cc9afd"
      },
      "execution_count": null,
      "outputs": [
        {
          "output_type": "display_data",
          "data": {
            "text/plain": [
              "<Figure size 640x480 with 1 Axes>"
            ],
            "image/png": "[encoded data removed]"
          },
          "metadata": {}
        }
      ]
    },
    {
      "cell_type": "markdown",
      "source": [
        "### Retraining Model with Optimized Parameters"
      ],
      "metadata": {
        "id": "W9wzMq5prYJ5"
      }
    },
    {
      "cell_type": "markdown",
      "source": [
        "Once we've found the best parameters using cross-validation, we can then retrain our model using these\n",
        "parameters to hopefully get a performance boost."
      ],
      "metadata": {
        "id": "ijSBpi5ere9D"
      }
    },
    {
      "cell_type": "code",
      "source": [
        "# Identify the optimal k from the plots\n",
        "optimal_k = 4 # Enter the optimal k based on the plots\n",
        "\n",
        "# Retrain the model with the optimal k\n",
        "kmeans_optimal = KMeans().setK(optimal_k).setSeed(1)\n",
        "final_model = kmeans_optimal.fit(df_vfeatures.select('features'))"
      ],
      "metadata": {
        "id": "5fxH4797rIBe"
      },
      "execution_count": null,
      "outputs": []
    },
    {
      "cell_type": "markdown",
      "source": [
        "## Model Evaluation"
      ],
      "metadata": {
        "id": "LZKuHZKTrh3D"
      }
    },
    {
      "cell_type": "markdown",
      "source": [
        "### Elbow Method"
      ],
      "metadata": {
        "id": "ZbyHr0o1r5c-"
      }
    },
    {
      "cell_type": "markdown",
      "source": [
        "We'll compute the WSSE for the final model and compare it to our previous WSSE values. A lower WSSE\n",
        "for the final model would indicate that our parameter tuning was successful."
      ],
      "metadata": {
        "id": "0Y4cLt8pr716"
      }
    },
    {
      "cell_type": "code",
      "source": [
        "from pyspark.ml.clustering import KMeansModel\n",
        "from pyspark.ml.linalg import Vectors\n",
        "from pyspark.sql.functions import udf\n",
        "from pyspark.sql.types import FloatType\n",
        "from pyspark.sql.functions import col, sum\n",
        "from pyspark.sql.functions import lit, when\n",
        "from pyspark.sql.functions import coalesce"
      ],
      "metadata": {
        "id": "qXvhON97r-ug"
      },
      "execution_count": null,
      "outputs": []
    },
    {
      "cell_type": "code",
      "source": [
        "# Create a DataFrame with the center and its index as a new column\n",
        "df_center = transformed.select('features', 'prediction')\n",
        "\n",
        "for i, center in enumerate(final_model.clusterCenters()):\n",
        "    df_center = df_center.withColumn('center_{}'.format(i), lit(center))\n",
        "\n",
        "# Define a UDF that computes the distance between a point and a center\n",
        "def compute_distance(point, center):\n",
        "    return float(Vectors.squared_distance(point, center))\n",
        "\n",
        "compute_distance_udf = udf(compute_distance, FloatType())"
      ],
      "metadata": {
        "id": "ywlpUJDtsCFk"
      },
      "execution_count": null,
      "outputs": []
    },
    {
      "cell_type": "code",
      "source": [
        "# Apply the UDF to compute the squared distance for each point in each cluster\n",
        "for i in range(optimal_k):\n",
        "    df_center = df_center.withColumn('squared_distance_{}'.format(i),\n",
        "                                     when(col('prediction') == i,\n",
        "                                          compute_distance_udf(col('features'), col('center_{}'.format(i))))\n",
        "                                    )"
      ],
      "metadata": {
        "id": "hKIKS_szsD-4"
      },
      "execution_count": null,
      "outputs": []
    },
    {
      "cell_type": "code",
      "source": [
        "# Calculate the sum of squared distances for each row\n",
        "wsse_columns = ['squared_distance_{}'.format(i) for i in range(optimal_k)]\n",
        "df_center = df_center.withColumn('wsse', coalesce(*wsse_columns))"
      ],
      "metadata": {
        "id": "W0gYPRKgtEAs"
      },
      "execution_count": null,
      "outputs": []
    },
    {
      "cell_type": "code",
      "source": [
        "# Calculate the total WSSE\n",
        "wsse_final = df_center.select(sum('wsse')).first()[0]\n",
        "print(\"The WSSE for the final model with K={0} is {1}\".format(optimal_k, wsse_final))"
      ],
      "metadata": {
        "colab": {
          "base_uri": "https://localhost:8080/"
        },
        "id": "j_WtDLKLtFcn",
        "outputId": "546c5eb2-ff9c-4acd-9924-5d8d2b5bcb50"
      },
      "execution_count": null,
      "outputs": [
        {
          "output_type": "stream",
          "name": "stdout",
          "text": [
            "The WSSE for the final model with K=4 is 4765214.582461476\n"
          ]
        }
      ]
    },
    {
      "cell_type": "markdown",
      "source": [
        "### Silhoutte Score"
      ],
      "metadata": {
        "id": "H_cNxiXUtLvE"
      }
    },
    {
      "cell_type": "code",
      "source": [
        "# Make predictions\n",
        "predictions = final_model.transform(df_vfeatures)"
      ],
      "metadata": {
        "id": "EAVzXk6NtNZ8"
      },
      "execution_count": null,
      "outputs": []
    },
    {
      "cell_type": "code",
      "source": [
        "# Evaluate clustering by computing Silhouette score\n",
        "evaluator = ClusteringEvaluator()"
      ],
      "metadata": {
        "id": "Nvz8ZNywtOzM"
      },
      "execution_count": null,
      "outputs": []
    },
    {
      "cell_type": "code",
      "source": [
        "silhouette = evaluator.evaluate(predictions)\n",
        "print(\"The silhouette score for the final model with K={0} is {1}\".format(optimal_k, silhouette))"
      ],
      "metadata": {
        "colab": {
          "base_uri": "https://localhost:8080/"
        },
        "id": "Ga-m1eAAtP8x",
        "outputId": "65a9d7b7-a6f7-41e7-cb81-1a04e1c17282"
      },
      "execution_count": null,
      "outputs": [
        {
          "output_type": "stream",
          "name": "stdout",
          "text": [
            "The silhouette score for the final model with K=4 is 0.8287307930955468\n"
          ]
        }
      ]
    },
    {
      "cell_type": "markdown",
      "source": [
        "## Visualization"
      ],
      "metadata": {
        "id": "6Mmdg7a9tim0"
      }
    },
    {
      "cell_type": "markdown",
      "source": [
        "Visualizations are key to understand both the data working with and the results of analysis. They can give you insights that are hard to see in raw data, and they are essential when you want to communicate findings to others."
      ],
      "metadata": {
        "id": "6EoHkVJftkkb"
      }
    },
    {
      "cell_type": "markdown",
      "source": [
        "### Data Visualization during Preprocessing"
      ],
      "metadata": {
        "id": "MVZ2PqMEtqL9"
      }
    },
    {
      "cell_type": "markdown",
      "source": [
        "During preprocessing, it might be useful to get a sense of the distribution of data. For instance, if we have a feature like 'Aboard', 'Fatalities', or 'Ground' in our dataset, we might want to visualize their distribution."
      ],
      "metadata": {
        "id": "y2pYuqIhtrri"
      }
    },
    {
      "cell_type": "code",
      "source": [
        "import pandas as pd\n",
        "import matplotlib.pyplot as plt"
      ],
      "metadata": {
        "id": "HE6agc1cvCrG"
      },
      "execution_count": null,
      "outputs": []
    },
    {
      "cell_type": "markdown",
      "source": [
        "Increase Memory"
      ],
      "metadata": {
        "id": "gspIZEjvvHUk"
      }
    },
    {
      "cell_type": "code",
      "source": [
        "from pyspark.sql import SparkSession\n",
        "\n",
        "spark = SparkSession.builder \\\n",
        "    .appName('app') \\\n",
        "    .config('spark.driver.memory', '8g') \\\n",
        "    .getOrCreate()"
      ],
      "metadata": {
        "id": "hjhwNO-QvJea"
      },
      "execution_count": null,
      "outputs": []
    },
    {
      "cell_type": "code",
      "source": [
        "histogram_data = df.select('Aboard').rdd.flatMap(lambda x: x).histogram(10)"
      ],
      "metadata": {
        "id": "XGBBSfVRvicA"
      },
      "execution_count": null,
      "outputs": []
    },
    {
      "cell_type": "code",
      "source": [
        "plt.hist(histogram_data, bins=10)\n",
        "plt.title('Aboard distribution')\n",
        "plt.show()"
      ],
      "metadata": {
        "colab": {
          "base_uri": "https://localhost:8080/",
          "height": 452
        },
        "id": "ntOdGJDbvlMC",
        "outputId": "0bcc8386-cfbc-4e02-d26d-0f4e51f95b70"
      },
      "execution_count": null,
      "outputs": [
        {
          "output_type": "display_data",
          "data": {
            "text/plain": [
              "<Figure size 640x480 with 1 Axes>"
            ],
            "image/png": "[encoded data removed]"
          },
          "metadata": {}
        }
      ]
    },
    {
      "cell_type": "code",
      "source": [
        "display(df.select(\"Aboard\"))"
      ],
      "metadata": {
        "colab": {
          "base_uri": "https://localhost:8080/",
          "height": 35
        },
        "id": "VjV3UAWmvqkg",
        "outputId": "cd1a3a85-4999-40e8-a2a0-7967fc9851c6"
      },
      "execution_count": null,
      "outputs": [
        {
          "output_type": "display_data",
          "data": {
            "text/plain": [
              "DataFrame[Aboard: int]"
            ]
          },
          "metadata": {}
        }
      ]
    },
    {
      "cell_type": "code",
      "source": [
        "# # Convert Spark DataFrame to Pandas\n",
        "# pandas_df = df.toPandas()\n",
        "\n",
        "# # Plot a histogram of the 'Aboard' column\n",
        "# pandas_df['Aboard'].hist()\n",
        "# plt.title('Aboard distribution')\n",
        "# plt.show()"
      ],
      "metadata": {
        "id": "ns3_tMLAxEJB"
      },
      "execution_count": null,
      "outputs": []
    },
    {
      "cell_type": "code",
      "source": [
        "histogram_data = df.select('Fatalities').rdd.flatMap(lambda x: x).histogram(10)\n",
        "\n",
        "plt.hist(histogram_data, bins=10)\n",
        "plt.title('Fatalities distribution')\n",
        "plt.show()"
      ],
      "metadata": {
        "colab": {
          "base_uri": "https://localhost:8080/",
          "height": 452
        },
        "id": "E4j34bwJxJ5J",
        "outputId": "4d6ba6d2-3bb4-4bbc-c642-01e2162823ee"
      },
      "execution_count": null,
      "outputs": [
        {
          "output_type": "display_data",
          "data": {
            "text/plain": [
              "<Figure size 640x480 with 1 Axes>"
            ],
            "image/png": "[encoded data removed]"
          },
          "metadata": {}
        }
      ]
    },
    {
      "cell_type": "code",
      "source": [
        "histogram_data = df.select('Ground').rdd.flatMap(lambda x: x).histogram(10)\n",
        "\n",
        "plt.hist(histogram_data, bins=10)\n",
        "plt.title('Ground distribution')\n",
        "plt.show()"
      ],
      "metadata": {
        "colab": {
          "base_uri": "https://localhost:8080/",
          "height": 452
        },
        "id": "NvnHe3t1xXNZ",
        "outputId": "24255078-0bd1-472e-c3e4-2a992379b109"
      },
      "execution_count": null,
      "outputs": [
        {
          "output_type": "display_data",
          "data": {
            "text/plain": [
              "<Figure size 640x480 with 1 Axes>"
            ],
            "image/png": "[encoded data removed]"
          },
          "metadata": {}
        }
      ]
    },
    {
      "cell_type": "markdown",
      "source": [
        "### Data Visualization during Evaluation"
      ],
      "metadata": {
        "id": "3fxdTY6otzPa"
      }
    },
    {
      "cell_type": "markdown",
      "source": [
        "Once the model is trained and evaluated, it's insightful to visualize how well the data points are clustered. We can create scatter plots where each point represents a data record, and the color of the point represents its assigned cluster.\n",
        "\n",
        "Let's visualize the clusters based on two features, say 'Aboard' and 'Fatalities':"
      ],
      "metadata": {
        "id": "AnarDRY8xhfS"
      }
    },
    {
      "cell_type": "code",
      "source": [
        "# Get the predictions from the final model\n",
        "predictions = final_model.transform(df_vfeatures)\n",
        "\n",
        "# Convert to Pandas DataFrame\n",
        "predictions_pandas = predictions.toPandas()\n",
        "\n",
        "# Scatter plot of the 'Aboard' and 'Fatalities' features, colored by prediction\n",
        "plt.figure(figsize=(10,8))\n",
        "plt.scatter(predictions_pandas['Aboard'], predictions_pandas['Fatalities'], c=predictions_pandas['prediction'])\n",
        "plt.title('Visualization of clustered data', fontweight='bold')\n",
        "plt.xlabel('Aboard')\n",
        "plt.ylabel('Fatalities')\n",
        "plt.show()"
      ],
      "metadata": {
        "colab": {
          "base_uri": "https://localhost:8080/",
          "height": 718
        },
        "id": "r7NvUWD1xg-m",
        "outputId": "6dc92cb8-7932-4968-f2d3-e2bab9c0ba6d"
      },
      "execution_count": null,
      "outputs": [
        {
          "output_type": "display_data",
          "data": {
            "text/plain": [
              "<Figure size 1000x800 with 1 Axes>"
            ],
            "image/png": "[encoded data removed]"
          },
          "metadata": {}
        }
      ]
    },
    {
      "cell_type": "code",
      "source": [
        "# Scatter plot of the 'Fatalities' and 'Ground' features, colored by prediction\n",
        "plt.figure(figsize=(10,8))\n",
        "plt.scatter(predictions_pandas['Fatalities'], predictions_pandas['Ground'], c=predictions_pandas['prediction'])\n",
        "plt.title('Visualization of clustered data', fontweight='bold')\n",
        "plt.xlabel('Fatalities')\n",
        "plt.ylabel('Ground')\n",
        "plt.show()"
      ],
      "metadata": {
        "colab": {
          "base_uri": "https://localhost:8080/",
          "height": 718
        },
        "id": "ecYECyU90kl5",
        "outputId": "ba9656d0-0021-4fea-962d-f6020d1b59c8"
      },
      "execution_count": null,
      "outputs": [
        {
          "output_type": "display_data",
          "data": {
            "text/plain": [
              "<Figure size 1000x800 with 1 Axes>"
            ],
            "image/png": "[encoded data removed]"
          },
          "metadata": {}
        }
      ]
    },
    {
      "cell_type": "markdown",
      "source": [
        "#### Viusalization with Principal Component Analysis (PCA)"
      ],
      "metadata": {
        "id": "cDzVDXqh0uQv"
      }
    },
    {
      "cell_type": "code",
      "source": [
        "from pyspark.ml.feature import PCA\n",
        "\n",
        "# Apply PCA to transform the features to 2D\n",
        "pca = PCA(k=2, inputCol=\"features\", outputCol=\"pcaFeatures\")\n",
        "model = pca.fit(predictions)\n",
        "\n",
        "result = model.transform(predictions)"
      ],
      "metadata": {
        "id": "xZTGRJlp0xlc"
      },
      "execution_count": null,
      "outputs": []
    },
    {
      "cell_type": "code",
      "source": [
        "# Convert to Pandas DataFrame\n",
        "result_pandas = result.select(\"prediction\", \"pcaFeatures\").toPandas()\n",
        "\n",
        "# Extract the two features from pcaFeatures\n",
        "result_pandas[\"pcaFeatures\"] = result_pandas[\"pcaFeatures\"].apply(lambda x: [float(y) for y in x])\n",
        "result_pandas[[\"pca1\", \"pca2\"]] = pd.DataFrame(result_pandas[\"pcaFeatures\"].to_list(), index=result_pandas.index)\n"
      ],
      "metadata": {
        "id": "m66AS8Za0z7j"
      },
      "execution_count": null,
      "outputs": []
    },
    {
      "cell_type": "code",
      "source": [
        "# Scatter plot of the 'pca1' and 'pca2' features, colored by prediction\n",
        "plt.figure(figsize=(10,8))\n",
        "plt.scatter(result_pandas['pca1'], result_pandas['pca2'], c=result_pandas['prediction'])\n",
        "plt.title('Visualization of clustered data in 2D using PCA', fontweight='bold')\n",
        "plt.xlabel('PCA 1')\n",
        "plt.ylabel('PCA 2')\n",
        "plt.show()"
      ],
      "metadata": {
        "colab": {
          "base_uri": "https://localhost:8080/",
          "height": 718
        },
        "id": "Ch7UVolz03mB",
        "outputId": "cba428e5-44c4-4e67-a805-8a47553fd473"
      },
      "execution_count": null,
      "outputs": [
        {
          "output_type": "display_data",
          "data": {
            "text/plain": [
              "<Figure size 1000x800 with 1 Axes>"
            ],
            "image/png": "[encoded data removed]"
          },
          "metadata": {}
        }
      ]
    },
    {
      "cell_type": "markdown",
      "source": [
        "## Conclusion"
      ],
      "metadata": {
        "id": "9yU2RtNv1iWa"
      }
    },
    {
      "cell_type": "markdown",
      "source": [
        "The purpose of this notebook was to illustrate how PySpark can be utilized for scalable data preprocessing, feature engineering, model training, hyperparameter tuning, model evaluation, and visualization in the context of a clustering task.\n",
        "\n",
        "Throughout the analysis, handled missing values, normalized features, applied feature selection and transformation techniques, and prepared the data for K-Means clustering.\n",
        "\n",
        "Two primary methods, the Elbow method and Silhouette score, applied for hyperparameter tuning. These methods helped us identify the optimal number of clusters, which was then used to retrain our K-Means model.\n",
        "\n",
        "```\n",
        "The final model with K=4, based on the optimal number of clusters identified, showed a Within Set Sum of Squared Errors (WSSE) of 4765214.582461476, demonstrating a high degree of cluster compactness. Additionally, the silhouette score was found to be 0.8287307930955468, which indicates that the clusters were well apart and had low overlap, suggesting good performance.```"
      ],
      "metadata": {
        "id": "av9BLf2J1lQI"
      }
    },
    {
      "cell_type": "markdown",
      "source": [
        "## References"
      ],
      "metadata": {
        "id": "GMXcSW-r1ube"
      }
    },
    {
      "cell_type": "markdown",
      "source": [
        "- Apache Spark. (n.d.). Apache Spark Documentation. https://spark.apache.org/docs/latest/index.html\n",
        "- Resource in class Big Data\n",
        "- Youtube\n",
        "- Stackoverflow\n",
        "- ChatGPT\n",
        "- And many more"
      ],
      "metadata": {
        "id": "iR24wxT01xM9"
      }
    }
  ],
  "metadata": {
    "colab": {
      "toc_visible": true,
      "provenance": [],
      "authorship_tag": "ABX9TyMFD0ZIpgQX1uNOtMOqmBqK"
    },
    "kernelspec": {
      "display_name": "Python 3",
      "name": "python3"
    },
    "language_info": {
      "name": "python"
    }
  },
  "nbformat": 4,
  "nbformat_minor": 0
}